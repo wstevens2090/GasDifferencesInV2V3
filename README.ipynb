{
 "cells": [
  {
   "attachments": {},
   "cell_type": "markdown",
   "metadata": {},
   "source": [
    "# Gas Differences in Uniswap v2 and v3 #"
   ]
  },
  {
   "attachments": {},
   "cell_type": "markdown",
   "metadata": {},
   "source": [
    "## Background ## \n",
    "\n",
    "Uniswap v3 was launched May 5, 2021 with improvements including concentrated liquidity, improved oracle feeds and differing fee tiers. v2, it's predecessor has continued to see a lot of trade volume and trade count regardless.\n",
    "\n",
    "Why?\n",
    "* Liquidity Provider Perspective: difficult to price assets do not benefit from concentrated liquidity\n",
    "* Trader Perspective: improved complexity of v3 increases gas costs in practice.\n",
    "\n",
    "We will be investigating the gas costs of our v2 and v3 clones to validate the trader perspective.\n"
   ]
  },
  {
   "attachments": {},
   "cell_type": "markdown",
   "metadata": {},
   "source": [
    "## Objectives ##\n",
    "\n",
    "* Set up a node of the local blockchain using Ganache.\n",
    "* Compile, run and print gas fees for corresponding methods in v2 and v3 implementation.\n"
   ]
  },
  {
   "attachments": {},
   "cell_type": "markdown",
   "metadata": {},
   "source": [
    "## Testing ##\n",
    "\n",
    "We will be using Truffle to test our smart contracts that implement our v2 and v3 clone, and the provided tests for them are in the test/gas_v{2/3} files respectively. Broadly, they instantiate the pools for both clones for synthetic assets sBNB and sTSLA, and they unit test the <mark>init()</mark>, <mark>addLiquidity()</mark>, <mark>removeLiquidity()</mark>, <mark>token0To1()</mark> and <mark>token1To0()</mark> instance methods that are part of the interfaces of both contracts. The test scripts collect gas fee estimations when they call these instancce methods and log them to the console. "
   ]
  },
  {
   "attachments": {},
   "cell_type": "markdown",
   "metadata": {},
   "source": [
    "\n",
    "\n",
    "1. ganache-cli -l 1000000000000\n",
    "\n",
    "This starts a local Ethereum network on the test machine and runs a node of the local blockchain. The -l increases the gas limit so that transactions can succeed with higher than normal gas utilization.\n",
    "\n",
    "2. npm i abdk-libraries-solidity \n",
    "\n",
    "This installs the library that was used for floating point arithmetic in our v3 clone contract. This is needed for that contract.\n",
    "\n",
    "3. npm i @openzeppelin/contracts\n",
    "\n",
    "This installs the library that is used for access control in Solidity, so that only the owner can call the <mark>init()</mark> instance method to set the initial pool price.\n",
    "\n",
    "4. truffle test\n",
    "\n",
    "This runs the two scripts (gas_v2.js and gas_v3.js) that are in the test/ folder sequentially, both of which deploy an instance of Swap.sol and SwapV3.sol respectively for the sBNB and sTSLA synthetic assets. The test scripts print the logged values of gas fee estimations to the terminal after the instance methods of interest are invoked. "
   ]
  },
  {
   "attachments": {},
   "cell_type": "markdown",
   "metadata": {},
   "source": [
    "## Discussion ##\n",
    "\n",
    "From the results in the terminal, it should be obvious that our v3 clone consumes more gas in all tests compared to the v2 counterpart. For complex functions such as <mark>token0To1()</mark>, v3 consumes orders of magnitude more gas in order to complete a trade. This demonstrates the tradeoff as present for traders as v3 can provide deeper markets and more efficient capital allocation/utilization at the cost of higher gas fees."
   ]
  }
 ],
 "metadata": {
  "kernelspec": {
   "display_name": "local-venv",
   "language": "python",
   "name": "local-venv"
  },
  "language_info": {
   "codemirror_mode": {
    "name": "ipython",
    "version": 3
   },
   "file_extension": ".py",
   "mimetype": "text/x-python",
   "name": "python",
   "nbconvert_exporter": "python",
   "pygments_lexer": "ipython3",
   "version": "3.8.3"
  },
  "orig_nbformat": 4
 },
 "nbformat": 4,
 "nbformat_minor": 2
}
